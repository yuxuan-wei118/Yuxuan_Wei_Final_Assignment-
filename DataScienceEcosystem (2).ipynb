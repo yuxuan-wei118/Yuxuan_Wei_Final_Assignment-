{
 "cells": [
  {
   "cell_type": "markdown",
   "id": "2eedae21-48e4-4c05-8bfb-3f00ea2aa9b4",
   "metadata": {},
   "source": [
    "# Data Science Tools and Ecosystem"
   ]
  },
  {
   "cell_type": "markdown",
   "id": "fbf3e264-745b-49b5-bf17-0038bd0a0e81",
   "metadata": {},
   "source": [
    "## In this notebook, Data Science Tools and Ecosystem are summarized."
   ]
  },
  {
   "cell_type": "markdown",
   "id": "b5133048-d0b6-4379-8316-3ac6100e3364",
   "metadata": {},
   "source": [
    "### Some of the popular languages that Data Scientists use are:\n",
    "1. Python\n",
    "2. R\n",
    "3. SQL"
   ]
  },
  {
   "cell_type": "markdown",
   "id": "9465c83b-bb97-4292-9475-c7bc8babeef0",
   "metadata": {
    "tags": []
   },
   "source": [
    "__objectives__\n",
    "List popular languages for Data Science:\n",
    "\n",
    "- Python \n",
    "- R\n",
    "- SQL\n"
   ]
  },
  {
   "cell_type": "markdown",
   "id": "9ef93c4d-d394-4807-b060-18f2886e5e2d",
   "metadata": {},
   "source": [
    "#### Some of the commonly used libraries used by Data Scientists include:\n",
    "1. Pandas\n",
    "2. NumPy\n",
    "3. Keras"
   ]
  },
  {
   "cell_type": "markdown",
   "id": "05ea2932-c4c0-4007-bef2-cefccdc8c0bc",
   "metadata": {},
   "source": [
    "##### Data Science Tools:\n",
    "\n",
    "|Data Science Tools|\n",
    "|--------------------|\n",
    "|Jupyter|\n",
    "|Excel|\n",
    "|Tensorflow|\n"
   ]
  },
  {
   "cell_type": "markdown",
   "id": "78432cf0-47aa-4591-b9e5-9ca2734ce486",
   "metadata": {},
   "source": [
    "### Below are a few examples of evaluating arithmetic expressions in Python:\n",
    "\n"
   ]
  },
  {
   "cell_type": "code",
   "execution_count": 4,
   "id": "6b3a03ed-38d3-43cc-9440-4885b6930992",
   "metadata": {
    "tags": []
   },
   "outputs": [
    {
     "data": {
      "text/plain": [
       "17"
      ]
     },
     "execution_count": 4,
     "metadata": {},
     "output_type": "execute_result"
    }
   ],
   "source": [
    "(3*4)+5\n",
    "#This a simple arithmetic expression to mutiply then add integers"
   ]
  },
  {
   "cell_type": "code",
   "execution_count": 2,
   "id": "53e780a5-274f-4f5a-921f-d512e3e6008f",
   "metadata": {
    "tags": []
   },
   "outputs": [
    {
     "data": {
      "text/plain": [
       "3.3333333333333335"
      ]
     },
     "execution_count": 2,
     "metadata": {},
     "output_type": "execute_result"
    }
   ],
   "source": [
    "200/60\n",
    "#This will convert 200 minutes to hours by diving by 60"
   ]
  },
  {
   "cell_type": "markdown",
   "id": "0f70adaa-c6a0-4349-8a6c-ee2288945401",
   "metadata": {},
   "source": [
    "## Author: Yuxuan Wei"
   ]
  },
  {
   "cell_type": "code",
   "execution_count": null,
   "id": "965c7541-7ede-4052-bb42-466770eb84e3",
   "metadata": {},
   "outputs": [],
   "source": []
  }
 ],
 "metadata": {
  "kernelspec": {
   "display_name": "Python 3 (ipykernel)",
   "language": "python",
   "name": "python3"
  },
  "language_info": {
   "codemirror_mode": {
    "name": "ipython",
    "version": 3
   },
   "file_extension": ".py",
   "mimetype": "text/x-python",
   "name": "python",
   "nbconvert_exporter": "python",
   "pygments_lexer": "ipython3",
   "version": "3.11.5"
  }
 },
 "nbformat": 4,
 "nbformat_minor": 5
}
